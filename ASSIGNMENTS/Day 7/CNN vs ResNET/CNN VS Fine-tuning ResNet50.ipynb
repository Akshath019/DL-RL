{
 "cells": [
  {
   "cell_type": "markdown",
   "metadata": {},
   "source": [
    "## CNN :"
   ]
  },
  {
   "cell_type": "code",
   "execution_count": 9,
   "metadata": {
    "id": "BasmQiK8m9-R"
   },
   "outputs": [],
   "source": [
    "import tensorflow as tf\n",
    "from keras import layers\n",
    "from keras.datasets import cifar10\n",
    "import matplotlib.pyplot as plt\n",
    "from keras.callbacks import (\n",
    "    ReduceLROnPlateau,\n",
    "    EarlyStopping,\n",
    ")\n",
    "\n",
    "from keras import Model\n",
    "from keras.models import Sequential\n",
    "\n",
    "from keras.utils import to_categorical\n",
    "from keras.applications import ResNet50\n",
    "from keras.optimizers import AdamW, RMSprop"
   ]
  },
  {
   "cell_type": "code",
   "execution_count": 10,
   "metadata": {
    "colab": {
     "base_uri": "https://localhost:8080/"
    },
    "id": "-ZM-FeX7m-xS",
    "outputId": "db45454b-3c9a-43a9-fa1e-e74b8d91e502"
   },
   "outputs": [
    {
     "name": "stdout",
     "output_type": "stream",
     "text": [
      "Downloading data from https://www.cs.toronto.edu/~kriz/cifar-10-python.tar.gz\n",
      "\u001b[1m170498071/170498071\u001b[0m \u001b[32m━━━━━━━━━━━━━━━━━━━━\u001b[0m\u001b[37m\u001b[0m \u001b[1m4s\u001b[0m 0us/step\n"
     ]
    }
   ],
   "source": [
    "(train_images, train_labels), (test_images, test_labels) = cifar10.load_data()\n",
    "\n",
    "train_images = train_images / 255.0\n",
    "test_images = test_images / 255.0\n",
    "\n",
    "train_labels = to_categorical(train_labels, 10)\n",
    "test_labels = to_categorical(test_labels, 10)"
   ]
  },
  {
   "cell_type": "code",
   "execution_count": 11,
   "metadata": {
    "id": "BRRAKL5inNRD"
   },
   "outputs": [],
   "source": [
    "inputs = tf.keras.Input(shape=(32, 32, 3))\n",
    "\n",
    "# Block 1\n",
    "x = layers.Conv2D(64, (3, 3), padding=\"same\", activation=\"relu\")(inputs)\n",
    "x = layers.MaxPooling2D((2, 2))(x)\n",
    "x = layers.Dropout(0.25)(x)\n",
    "\n",
    "# Block 2\n",
    "x = layers.Conv2D(128, (3, 3), padding=\"same\", activation=\"relu\")(x)\n",
    "x = layers.BatchNormalization()(x)\n",
    "x = layers.MaxPooling2D((2, 2))(x)\n",
    "x = layers.Dropout(0.25)(x)\n",
    "\n",
    "# Block 3\n",
    "x = layers.Conv2D(256, (3, 3), padding=\"same\", activation=\"relu\")(x)\n",
    "x = layers.BatchNormalization()(x)\n",
    "x = layers.MaxPooling2D((2, 2))(x)\n",
    "x = layers.Dropout(0.4)(x)\n",
    "\n",
    "# Classifier\n",
    "x = layers.Flatten()(x)\n",
    "x = layers.Dense(512, activation=\"relu\")(x)\n",
    "x = layers.BatchNormalization()(x)\n",
    "x = layers.Dropout(0.45)(x)\n",
    "\n",
    "outputs = layers.Dense(10, activation=\"softmax\")(x)\n",
    "\n",
    "model = Model(inputs, outputs)"
   ]
  },
  {
   "cell_type": "code",
   "execution_count": 12,
   "metadata": {
    "id": "OaKxkMI4nVIZ"
   },
   "outputs": [],
   "source": [
    "optimizer = AdamW(learning_rate=0.0005)\n",
    "\n",
    "model.compile(\n",
    "    optimizer=optimizer, loss=\"categorical_crossentropy\", metrics=[\"accuracy\"]\n",
    ")\n",
    "\n",
    "lr_scheduler = ReduceLROnPlateau(factor=0.5, patience=3, min_lr=1e-5)\n",
    "\n",
    "early_stop = EarlyStopping(\n",
    "    patience=3,\n",
    "    restore_best_weights=True,\n",
    "    monitor=\"val_accuracy\",\n",
    "    min_delta=0.001,\n",
    ")"
   ]
  },
  {
   "cell_type": "markdown",
   "metadata": {},
   "source": [
    "## MODEL TRAINING"
   ]
  },
  {
   "cell_type": "code",
   "execution_count": 20,
   "metadata": {
    "colab": {
     "base_uri": "https://localhost:8080/"
    },
    "id": "0cOft-l4nW70",
    "outputId": "c59dfcb8-4938-4eec-f420-9d750870e46f"
   },
   "outputs": [
    {
     "name": "stdout",
     "output_type": "stream",
     "text": [
      "Epoch 1/25\n",
      "\u001b[1m313/313\u001b[0m \u001b[32m━━━━━━━━━━━━━━━━━━━━\u001b[0m\u001b[37m\u001b[0m \u001b[1m5s\u001b[0m 16ms/step - accuracy: 0.8845 - loss: 0.3292 - val_accuracy: 0.8227 - val_loss: 0.5322 - learning_rate: 6.2500e-05\n",
      "Epoch 2/25\n",
      "\u001b[1m313/313\u001b[0m \u001b[32m━━━━━━━━━━━━━━━━━━━━\u001b[0m\u001b[37m\u001b[0m \u001b[1m4s\u001b[0m 14ms/step - accuracy: 0.8862 - loss: 0.3274 - val_accuracy: 0.8169 - val_loss: 0.5493 - learning_rate: 6.2500e-05\n",
      "Epoch 3/25\n",
      "\u001b[1m313/313\u001b[0m \u001b[32m━━━━━━━━━━━━━━━━━━━━\u001b[0m\u001b[37m\u001b[0m \u001b[1m4s\u001b[0m 14ms/step - accuracy: 0.8867 - loss: 0.3239 - val_accuracy: 0.8168 - val_loss: 0.5549 - learning_rate: 6.2500e-05\n",
      "Epoch 4/25\n",
      "\u001b[1m313/313\u001b[0m \u001b[32m━━━━━━━━━━━━━━━━━━━━\u001b[0m\u001b[37m\u001b[0m \u001b[1m5s\u001b[0m 14ms/step - accuracy: 0.8919 - loss: 0.3084 - val_accuracy: 0.8218 - val_loss: 0.5426 - learning_rate: 6.2500e-05\n"
     ]
    }
   ],
   "source": [
    "history = model.fit(\n",
    "    train_images,\n",
    "    train_labels,\n",
    "    validation_split=0.2,\n",
    "    epochs=25,\n",
    "    batch_size=128,\n",
    "    callbacks=[lr_scheduler, early_stop],\n",
    "    verbose=1,\n",
    ")"
   ]
  },
  {
   "cell_type": "code",
   "execution_count": 24,
   "metadata": {
    "colab": {
     "base_uri": "https://localhost:8080/"
    },
    "id": "PHm2K2WOnaic",
    "outputId": "ea91e5be-ce31-4507-8fc4-ba1ba2cf6db5"
   },
   "outputs": [
    {
     "name": "stdout",
     "output_type": "stream",
     "text": [
      "CNN Test Accuracy: 0.8196\n"
     ]
    }
   ],
   "source": [
    "test_loss, test_acc = model.evaluate(test_images, test_labels, verbose=0)\n",
    "\n",
    "print(f\"CNN Test Accuracy: {test_acc:.4f}\")"
   ]
  },
  {
   "cell_type": "markdown",
   "metadata": {
    "id": "txRcUdF7rRNU"
   },
   "source": [
    "##  ResNet50 using Transfer Learning"
   ]
  },
  {
   "cell_type": "code",
   "execution_count": 25,
   "metadata": {
    "colab": {
     "base_uri": "https://localhost:8080/"
    },
    "id": "rSvJnBQzrR_j",
    "outputId": "e4ac15ea-d2b8-4b4b-f67f-de7af81e6015"
   },
   "outputs": [
    {
     "name": "stdout",
     "output_type": "stream",
     "text": [
      "Train data shape: (50000, 32, 32, 3)\n",
      "Test data shape: (10000, 32, 32, 3)\n"
     ]
    }
   ],
   "source": [
    "(x_train, y_train), (x_test, y_test) = cifar10.load_data()\n",
    "\n",
    "x_train = tf.keras.applications.resnet50.preprocess_input(x_train)\n",
    "x_test = tf.keras.applications.resnet50.preprocess_input(x_test)\n",
    "\n",
    "y_train = to_categorical(y_train, 10)\n",
    "y_test = to_categorical(y_test, 10)\n",
    "\n",
    "print(\"Train data shape:\", x_train.shape)\n",
    "print(\"Test data shape:\", x_test.shape)"
   ]
  },
  {
   "cell_type": "code",
   "execution_count": 26,
   "metadata": {
    "colab": {
     "base_uri": "https://localhost:8080/"
    },
    "id": "kJBkLOmLrTXa",
    "outputId": "6df62af6-c957-4e1b-c5b4-b64183c655c0"
   },
   "outputs": [
    {
     "name": "stdout",
     "output_type": "stream",
     "text": [
      "Downloading data from https://storage.googleapis.com/tensorflow/keras-applications/resnet/resnet50_weights_tf_dim_ordering_tf_kernels_notop.h5\n",
      "\u001b[1m94765736/94765736\u001b[0m \u001b[32m━━━━━━━━━━━━━━━━━━━━\u001b[0m\u001b[37m\u001b[0m \u001b[1m0s\u001b[0m 0us/step\n"
     ]
    }
   ],
   "source": [
    "base_model = ResNet50(\n",
    "    include_top=False, weights=\"imagenet\"\n",
    ")\n",
    "\n",
    "# We freeze all but the last layers, so only the last layer's weights are trainable\n",
    "for layer in base_model.layers[:143]:\n",
    "    layer.trainable = False"
   ]
  },
  {
   "cell_type": "code",
   "execution_count": 27,
   "metadata": {
    "id": "BWaVTGctrVqd"
   },
   "outputs": [],
   "source": [
    "model = Sequential(\n",
    "    [\n",
    "        layers.Lambda(lambda image: tf.image.resize(image, (224, 224))),\n",
    "        base_model,\n",
    "        layers.Flatten(),\n",
    "        layers.BatchNormalization(),\n",
    "        layers.Dense(256, activation='relu'),\n",
    "        layers.Dropout(0.5),\n",
    "        layers.BatchNormalization(),\n",
    "        layers.Dense(128, activation='relu'),\n",
    "        layers.Dropout(0.5),\n",
    "        layers.BatchNormalization(),\n",
    "        layers.Dense(64, activation='relu'),\n",
    "        layers.Dropout(0.5),\n",
    "        layers.BatchNormalization(),\n",
    "        layers.Dense(10, activation=\"softmax\"),\n",
    "    ]\n",
    ")\n",
    "\n",
    "model.compile(optimizer=RMSprop(0.00002), loss=\"categorical_crossentropy\", metrics=[\"accuracy\"])\n",
    "\n",
    "lr_schedule = (\n",
    "    ReduceLROnPlateau(\n",
    "        patience=1, factor=0.5, min_lr=1e-6, monitor=\"val_accuracy\", verbose=1\n",
    "    ),\n",
    ")\n",
    "\n",
    "es = EarlyStopping(\n",
    "    monitor=\"val_accuracy\", mode=\"max\", patience=2, restore_best_weights=True\n",
    ")"
   ]
  },
  {
   "cell_type": "code",
   "execution_count": 28,
   "metadata": {
    "colab": {
     "base_uri": "https://localhost:8080/"
    },
    "id": "o2qKPM9DrbYU",
    "outputId": "341a686e-de4a-433d-8d9e-5212d7674744"
   },
   "outputs": [
    {
     "name": "stdout",
     "output_type": "stream",
     "text": [
      "Epoch 1/10\n",
      "\u001b[1m1250/1250\u001b[0m \u001b[32m━━━━━━━━━━━━━━━━━━━━\u001b[0m\u001b[37m\u001b[0m \u001b[1m207s\u001b[0m 145ms/step - accuracy: 0.2531 - loss: 2.2611 - val_accuracy: 0.8462 - val_loss: 0.7739 - learning_rate: 2.0000e-05\n",
      "Epoch 2/10\n",
      "\u001b[1m1250/1250\u001b[0m \u001b[32m━━━━━━━━━━━━━━━━━━━━\u001b[0m\u001b[37m\u001b[0m \u001b[1m196s\u001b[0m 150ms/step - accuracy: 0.5457 - loss: 1.3809 - val_accuracy: 0.8920 - val_loss: 0.5272 - learning_rate: 2.0000e-05\n",
      "Epoch 3/10\n",
      "\u001b[1m1250/1250\u001b[0m \u001b[32m━━━━━━━━━━━━━━━━━━━━\u001b[0m\u001b[37m\u001b[0m \u001b[1m202s\u001b[0m 150ms/step - accuracy: 0.6910 - loss: 1.0338 - val_accuracy: 0.9164 - val_loss: 0.3930 - learning_rate: 2.0000e-05\n",
      "Epoch 4/10\n",
      "\u001b[1m1250/1250\u001b[0m \u001b[32m━━━━━━━━━━━━━━━━━━━━\u001b[0m\u001b[37m\u001b[0m \u001b[1m202s\u001b[0m 150ms/step - accuracy: 0.7727 - loss: 0.8347 - val_accuracy: 0.9322 - val_loss: 0.3138 - learning_rate: 2.0000e-05\n",
      "Epoch 5/10\n",
      "\u001b[1m1250/1250\u001b[0m \u001b[32m━━━━━━━━━━━━━━━━━━━━\u001b[0m\u001b[37m\u001b[0m \u001b[1m202s\u001b[0m 150ms/step - accuracy: 0.8273 - loss: 0.6771 - val_accuracy: 0.9388 - val_loss: 0.2659 - learning_rate: 2.0000e-05\n",
      "Epoch 6/10\n",
      "\u001b[1m1250/1250\u001b[0m \u001b[32m━━━━━━━━━━━━━━━━━━━━\u001b[0m\u001b[37m\u001b[0m \u001b[1m171s\u001b[0m 137ms/step - accuracy: 0.8689 - loss: 0.5532 - val_accuracy: 0.9410 - val_loss: 0.2350 - learning_rate: 2.0000e-05\n",
      "Epoch 7/10\n",
      "\u001b[1m1250/1250\u001b[0m \u001b[32m━━━━━━━━━━━━━━━━━━━━\u001b[0m\u001b[37m\u001b[0m \u001b[1m219s\u001b[0m 150ms/step - accuracy: 0.9066 - loss: 0.4417 - val_accuracy: 0.9437 - val_loss: 0.2239 - learning_rate: 2.0000e-05\n",
      "Epoch 8/10\n",
      "\u001b[1m1250/1250\u001b[0m \u001b[32m━━━━━━━━━━━━━━━━━━━━\u001b[0m\u001b[37m\u001b[0m \u001b[1m202s\u001b[0m 150ms/step - accuracy: 0.9193 - loss: 0.3771 - val_accuracy: 0.9442 - val_loss: 0.2155 - learning_rate: 2.0000e-05\n",
      "Epoch 9/10\n",
      "\u001b[1m1250/1250\u001b[0m \u001b[32m━━━━━━━━━━━━━━━━━━━━\u001b[0m\u001b[37m\u001b[0m \u001b[1m0s\u001b[0m 117ms/step - accuracy: 0.9383 - loss: 0.3144\n",
      "Epoch 9: ReduceLROnPlateau reducing learning rate to 9.999999747378752e-06.\n",
      "\u001b[1m1250/1250\u001b[0m \u001b[32m━━━━━━━━━━━━━━━━━━━━\u001b[0m\u001b[37m\u001b[0m \u001b[1m202s\u001b[0m 150ms/step - accuracy: 0.9383 - loss: 0.3144 - val_accuracy: 0.9424 - val_loss: 0.2135 - learning_rate: 2.0000e-05\n",
      "Epoch 10/10\n",
      "\u001b[1m1250/1250\u001b[0m \u001b[32m━━━━━━━━━━━━━━━━━━━━\u001b[0m\u001b[37m\u001b[0m \u001b[1m202s\u001b[0m 150ms/step - accuracy: 0.9511 - loss: 0.2653 - val_accuracy: 0.9465 - val_loss: 0.2026 - learning_rate: 1.0000e-05\n"
     ]
    }
   ],
   "source": [
    "history = model.fit(\n",
    "    x_train,\n",
    "    y_train,\n",
    "    batch_size=32,\n",
    "    epochs=10,\n",
    "    callbacks=[es, lr_schedule],\n",
    "    validation_split=0.2,\n",
    "    verbose=1,\n",
    ")"
   ]
  },
  {
   "cell_type": "code",
   "execution_count": 29,
   "metadata": {
    "colab": {
     "base_uri": "https://localhost:8080/"
    },
    "id": "e3jXWgXLrfQ0",
    "outputId": "5d074c6d-e323-4992-897c-0c0a71743856"
   },
   "outputs": [
    {
     "name": "stdout",
     "output_type": "stream",
     "text": [
      "\n",
      "Final Test Accuracy: 0.9469\n"
     ]
    }
   ],
   "source": [
    "test_loss, test_accuracy = model.evaluate(x_test, y_test, verbose=0)\n",
    "print(f\"\\nFinal Test Accuracy: {test_accuracy:.4f}\")"
   ]
  },
  {
   "cell_type": "markdown",
   "metadata": {},
   "source": [
    "## Performance Analysis\n",
    "CNN Validation Accuracy: ~81%\n",
    "\n",
    "ResNet50 Validation Accuracy: ~94%\n",
    "\n",
    "## Training Configuration\n",
    "Component\tValue\n",
    "Optimizer\tAdamW (CNN), RMSprop (ResNet)\n",
    "Loss Function\tcategorical_crossentropy\n",
    "Batch Size\t128\n",
    "Epochs\t25 (Early stopping used)\n",
    "Regularization\tDropout + BatchNormalization\n",
    "Learning Rate Schedule\tReduceLROnPlateau with patience and minimum LR set\n",
    "Early Stopping\tBased on val_accuracy with patience = 3\n",
    "\n",
    "\n",
    "## Observations\n",
    "The CNN model performed moderately well (~81% accuracy), showing it's suitable for baseline image classification on CIFAR-10.\n",
    "\n",
    "The ResNet50 model, leveraging transfer learning, significantly improved validation accuracy (~94%), demonstrating the strength of deep pretrained architectures.\n",
    "\n",
    "Batch normalization and dropout were used effectively to combat overfitting.\n",
    "\n",
    "Early stopping ensured efficient training without unnecessary over-epoching."
   ]
  },
  {
   "cell_type": "code",
   "execution_count": null,
   "metadata": {},
   "outputs": [],
   "source": []
  }
 ],
 "metadata": {
  "accelerator": "GPU",
  "colab": {
   "gpuType": "T4",
   "name": "Welcome To Colab",
   "provenance": []
  },
  "kernelspec": {
   "display_name": "Python 3 (ipykernel)",
   "language": "python",
   "name": "python3"
  },
  "language_info": {
   "codemirror_mode": {
    "name": "ipython",
    "version": 3
   },
   "file_extension": ".py",
   "mimetype": "text/x-python",
   "name": "python",
   "nbconvert_exporter": "python",
   "pygments_lexer": "ipython3",
   "version": "3.12.6"
  }
 },
 "nbformat": 4,
 "nbformat_minor": 4
}
